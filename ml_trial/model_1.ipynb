{
 "cells": [
  {
   "cell_type": "code",
   "execution_count": 4,
   "metadata": {},
   "outputs": [],
   "source": [
    "import tensorflow as tf\n",
    "import pandas as pd\n",
    "import numpy as np\n",
    "\n",
    "# Load data\n",
    "data = pd.read_csv('dataset.csv') \n",
    "\n"
   ]
  },
  {
   "cell_type": "code",
   "execution_count": 5,
   "metadata": {},
   "outputs": [],
   "source": [
    "# Encode categorical features\n",
    "name_mapping = {Name: i for i, Name in enumerate(data['Name'].unique())}\n",
    "places_mapping = {Place: i for i, Place in enumerate(data['Place'].unique())}\n",
    "city_mapping = {City: i for i, City in enumerate(data['City'].unique())}\n",
    "category1_mapping = {Category: i for i, Category in enumerate(data['Category1'].unique())}\n",
    "category2_mapping = {Category: i for i, Category in enumerate(data['Category2'].unique())}\n",
    "\n",
    "data['Name'] = data['Name'].map(name_mapping)\n",
    "data['Place'] = data['Place'].map(places_mapping)\n",
    "data['City'] = data['City'].map(city_mapping)\n",
    "data['Category1'] = data['Category1'].map(category1_mapping)\n",
    "data['Category2'] = data['Category2'].map(category2_mapping)\n",
    "\n",
    "num_users = len(data['Name'].unique())\n",
    "num_places = len(data['Place'].unique())\n",
    "\n"
   ]
  },
  {
   "cell_type": "code",
   "execution_count": 6,
   "metadata": {},
   "outputs": [
    {
     "name": "stdout",
     "output_type": "stream",
     "text": [
      "Epoch 1/50\n",
      "625/625 [==============================] - 1s 1ms/step - loss: 0.1182\n",
      "Epoch 2/50\n",
      "625/625 [==============================] - 1s 1ms/step - loss: 0.1065\n",
      "Epoch 3/50\n",
      "625/625 [==============================] - 1s 1ms/step - loss: 0.1040\n",
      "Epoch 4/50\n",
      "625/625 [==============================] - 1s 2ms/step - loss: 0.1031\n",
      "Epoch 5/50\n",
      "625/625 [==============================] - 1s 2ms/step - loss: 0.1027\n",
      "Epoch 6/50\n",
      "625/625 [==============================] - 1s 1ms/step - loss: 0.1026\n",
      "Epoch 7/50\n",
      "625/625 [==============================] - 1s 1ms/step - loss: 0.1025\n",
      "Epoch 8/50\n",
      "625/625 [==============================] - 1s 1ms/step - loss: 0.1024\n",
      "Epoch 9/50\n",
      "625/625 [==============================] - 1s 1ms/step - loss: 0.1023\n",
      "Epoch 10/50\n",
      "625/625 [==============================] - 1s 1ms/step - loss: 0.1023\n",
      "Epoch 11/50\n",
      "625/625 [==============================] - 1s 1ms/step - loss: 0.1022\n",
      "Epoch 12/50\n",
      "625/625 [==============================] - 1s 1ms/step - loss: 0.1022\n",
      "Epoch 13/50\n",
      "625/625 [==============================] - 1s 2ms/step - loss: 0.1021\n",
      "Epoch 14/50\n",
      "625/625 [==============================] - 1s 1ms/step - loss: 0.1021\n",
      "Epoch 15/50\n",
      "625/625 [==============================] - 1s 1ms/step - loss: 0.1020\n",
      "Epoch 16/50\n",
      "625/625 [==============================] - 1s 1ms/step - loss: 0.1020\n",
      "Epoch 17/50\n",
      "625/625 [==============================] - 1s 1ms/step - loss: 0.1020\n",
      "Epoch 18/50\n",
      "625/625 [==============================] - 1s 1ms/step - loss: 0.1020\n",
      "Epoch 19/50\n",
      "625/625 [==============================] - 1s 1ms/step - loss: 0.1020\n",
      "Epoch 20/50\n",
      "625/625 [==============================] - 1s 1ms/step - loss: 0.1019\n",
      "Epoch 21/50\n",
      "625/625 [==============================] - 1s 1ms/step - loss: 0.1019\n",
      "Epoch 22/50\n",
      "625/625 [==============================] - 1s 1ms/step - loss: 0.1019\n",
      "Epoch 23/50\n",
      "625/625 [==============================] - 1s 1ms/step - loss: 0.1019\n",
      "Epoch 24/50\n",
      "625/625 [==============================] - 1s 1ms/step - loss: 0.1019\n",
      "Epoch 25/50\n",
      "625/625 [==============================] - 1s 1ms/step - loss: 0.1019\n",
      "Epoch 26/50\n",
      "625/625 [==============================] - 1s 1ms/step - loss: 0.1019\n",
      "Epoch 27/50\n",
      "625/625 [==============================] - 1s 1ms/step - loss: 0.1019\n",
      "Epoch 28/50\n",
      "625/625 [==============================] - 1s 1ms/step - loss: 0.1018\n",
      "Epoch 29/50\n",
      "625/625 [==============================] - 1s 1ms/step - loss: 0.1019\n",
      "Epoch 30/50\n",
      "625/625 [==============================] - 1s 1ms/step - loss: 0.1018\n",
      "Epoch 31/50\n",
      "625/625 [==============================] - 1s 1ms/step - loss: 0.1018\n",
      "Epoch 32/50\n",
      "625/625 [==============================] - 1s 1ms/step - loss: 0.1018\n",
      "Epoch 33/50\n",
      "625/625 [==============================] - 1s 1ms/step - loss: 0.1018\n",
      "Epoch 34/50\n",
      "625/625 [==============================] - 1s 1ms/step - loss: 0.1018\n",
      "Epoch 35/50\n",
      "625/625 [==============================] - 1s 1ms/step - loss: 0.1018\n",
      "Epoch 36/50\n",
      "625/625 [==============================] - 1s 1ms/step - loss: 0.1018\n",
      "Epoch 37/50\n",
      "625/625 [==============================] - 1s 1ms/step - loss: 0.1018\n",
      "Epoch 38/50\n",
      "625/625 [==============================] - 1s 1ms/step - loss: 0.1018\n",
      "Epoch 39/50\n",
      "625/625 [==============================] - 1s 1ms/step - loss: 0.1018\n",
      "Epoch 40/50\n",
      "625/625 [==============================] - 1s 1ms/step - loss: 0.1018\n",
      "Epoch 41/50\n",
      "625/625 [==============================] - 1s 1ms/step - loss: 0.1018\n",
      "Epoch 42/50\n",
      "625/625 [==============================] - 1s 1ms/step - loss: 0.1018\n",
      "Epoch 43/50\n",
      "625/625 [==============================] - 1s 1ms/step - loss: 0.1018\n",
      "Epoch 44/50\n",
      "625/625 [==============================] - 1s 1ms/step - loss: 0.1018\n",
      "Epoch 45/50\n",
      "625/625 [==============================] - 1s 1ms/step - loss: 0.1018\n",
      "Epoch 46/50\n",
      "625/625 [==============================] - 1s 1ms/step - loss: 0.1018\n",
      "Epoch 47/50\n",
      "625/625 [==============================] - 1s 1ms/step - loss: 0.1018\n",
      "Epoch 48/50\n",
      "625/625 [==============================] - 1s 1ms/step - loss: 0.1018\n",
      "Epoch 49/50\n",
      "625/625 [==============================] - 1s 1ms/step - loss: 0.1018\n",
      "Epoch 50/50\n",
      "625/625 [==============================] - 1s 1ms/step - loss: 0.1018\n"
     ]
    },
    {
     "data": {
      "text/plain": [
       "<keras.callbacks.History at 0x163320f56c0>"
      ]
     },
     "execution_count": 6,
     "metadata": {},
     "output_type": "execute_result"
    }
   ],
   "source": [
    "# Create user-item ratings matrix\n",
    "ratings_matrix = np.zeros((num_users, num_places))\n",
    "for row in data.itertuples():\n",
    "    ratings_matrix[row.Name, row.Place] = row.Rating\n",
    "\n",
    "# Define the model\n",
    "model = tf.keras.Sequential([\n",
    "    tf.keras.layers.Dense(16, activation='relu', input_shape=(num_places,)),\n",
    "    tf.keras.layers.Dense(num_places)\n",
    "])\n",
    "\n",
    "# Compile the model\n",
    "model.compile(optimizer='adam', loss='mean_squared_error')\n",
    "\n",
    "# Train the model\n",
    "model.fit(ratings_matrix, ratings_matrix, epochs=50)\n",
    "\n"
   ]
  },
  {
   "cell_type": "code",
   "execution_count": 7,
   "metadata": {},
   "outputs": [
    {
     "name": "stdout",
     "output_type": "stream",
     "text": [
      "625/625 [==============================] - 1s 1ms/step\n",
      "User ID: 0\n",
      "Recommendations:\n",
      "Place: Museum Kereta Ambarawa, Rating: 0.07434378564357758\n",
      "Place: Semarang Chinatown, Rating: 0.07094637304544449\n",
      "Place: Tebing Breksi, Rating: 0.06886350363492966\n",
      "\n",
      "User ID: 1\n",
      "Recommendations:\n",
      "Place: Museum Kereta Ambarawa, Rating: 0.07434378564357758\n",
      "Place: Semarang Chinatown, Rating: 0.07094637304544449\n",
      "Place: Tebing Breksi, Rating: 0.06886350363492966\n",
      "\n",
      "User ID: 2\n",
      "Recommendations:\n",
      "Place: Museum Kereta Ambarawa, Rating: 0.07434378564357758\n",
      "Place: Semarang Chinatown, Rating: 0.07094637304544449\n",
      "Place: Tebing Breksi, Rating: 0.06886350363492966\n",
      "\n",
      "User ID: 3\n",
      "Recommendations:\n",
      "Place: Museum Kereta Ambarawa, Rating: 0.07434378564357758\n",
      "Place: Semarang Chinatown, Rating: 0.07094637304544449\n",
      "Place: Tebing Breksi, Rating: 0.06886350363492966\n",
      "\n"
     ]
    }
   ],
   "source": [
    "# Generate recommendations\n",
    "user_ids = [0, 1, 2, 3]  \n",
    "recommendations = model.predict(ratings_matrix)\n",
    "\n",
    "# Print the recommendations\n",
    "for user_id, recs in zip(user_ids, recommendations):\n",
    "    print(f\"User ID: {user_id}\")\n",
    "    print(\"Recommendations:\")\n",
    "    rec_indices = np.argsort(recs)[::-1]\n",
    "    for i in range(3):  # Get top 3 recommendations\n",
    "        place_id = rec_indices[i]\n",
    "        rating = recs[place_id]\n",
    "        place_name = list(places_mapping.keys())[list(places_mapping.values()).index(place_id)]\n",
    "        print(f\"Place: {place_name}, Rating: {rating}\")\n",
    "    print()"
   ]
  },
  {
   "cell_type": "code",
   "execution_count": 1,
   "metadata": {},
   "outputs": [
    {
     "name": "stdout",
     "output_type": "stream",
     "text": [
      "Collecting tflite\n",
      "  Downloading tflite-2.10.0-py2.py3-none-any.whl (123 kB)\n",
      "     ------------------------------------- 123.6/123.6 kB 65.9 kB/s eta 0:00:00\n",
      "Requirement already satisfied: numpy in d:\\python\\lib\\site-packages (from tflite) (1.24.2)\n",
      "Requirement already satisfied: flatbuffers in d:\\python\\lib\\site-packages (from tflite) (1.12)\n",
      "Installing collected packages: tflite\n",
      "Successfully installed tflite-2.10.0\n"
     ]
    },
    {
     "name": "stderr",
     "output_type": "stream",
     "text": [
      "\n",
      "[notice] A new release of pip available: 22.3.1 -> 23.1.2\n",
      "[notice] To update, run: python.exe -m pip install --upgrade pip\n"
     ]
    }
   ],
   "source": [
    "!pip install tflite"
   ]
  },
  {
   "cell_type": "code",
   "execution_count": 8,
   "metadata": {},
   "outputs": [
    {
     "name": "stdout",
     "output_type": "stream",
     "text": [
      "INFO:tensorflow:Assets written to: saved_model\\assets\n"
     ]
    }
   ],
   "source": [
    "export_dir = 'saved_model'\n",
    "tf.saved_model.save(model,export_dir)"
   ]
  },
  {
   "cell_type": "code",
   "execution_count": 9,
   "metadata": {},
   "outputs": [],
   "source": [
    "converter = tf.lite.TFLiteConverter.from_saved_model(export_dir)\n",
    "tflite_model = converter.convert()\n"
   ]
  },
  {
   "cell_type": "code",
   "execution_count": null,
   "metadata": {},
   "outputs": [],
   "source": []
  }
 ],
 "metadata": {
  "kernelspec": {
   "display_name": "Python 3",
   "language": "python",
   "name": "python3"
  },
  "language_info": {
   "codemirror_mode": {
    "name": "ipython",
    "version": 3
   },
   "file_extension": ".py",
   "mimetype": "text/x-python",
   "name": "python",
   "nbconvert_exporter": "python",
   "pygments_lexer": "ipython3",
   "version": "3.10.9"
  },
  "orig_nbformat": 4
 },
 "nbformat": 4,
 "nbformat_minor": 2
}
