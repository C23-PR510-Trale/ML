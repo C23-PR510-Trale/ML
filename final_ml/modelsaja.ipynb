{
 "cells": [
  {
   "cell_type": "code",
   "execution_count": 27,
   "metadata": {},
   "outputs": [
    {
     "name": "stderr",
     "output_type": "stream",
     "text": [
      "d:\\python\\lib\\site-packages\\sklearn\\cluster\\_kmeans.py:870: FutureWarning: The default value of `n_init` will change from 10 to 'auto' in 1.4. Set the value of `n_init` explicitly to suppress the warning\n",
      "  warnings.warn(\n"
     ]
    }
   ],
   "source": [
    "import pandas as pd\n",
    "from sklearn.cluster import KMeans\n",
    "from sklearn.preprocessing import LabelEncoder\n",
    "\n",
    "\n",
    "# Read the CSV file into a pandas DataFrame\n",
    "data = pd.read_csv('trips.csv')\n",
    "data['budget'] = data['budget'] / 100000\n",
    "\n",
    "# Select the columns for clustering\n",
    "selected_columns = ['trip_name', 'category', 'location', 'budget', 'rating']\n",
    "\n",
    "# Perform label encoding for the 'category' column\n",
    "label_encoder = LabelEncoder()\n",
    "data['category'] = label_encoder.fit_transform(data['category'])\n",
    "\n",
    "# Perform k-means clustering\n",
    "kmeans = KMeans(n_clusters=3, random_state=42)\n",
    "kmeans.fit(data[['budget', 'category']])\n",
    "\n",
    "# Assign cluster labels to each data point\n",
    "cluster_labels = kmeans.labels_\n",
    "\n",
    "# Add cluster labels to the original DataFrame\n",
    "data['cluster'] = cluster_labels"
   ]
  },
  {
   "cell_type": "code",
   "execution_count": 37,
   "metadata": {},
   "outputs": [
    {
     "data": {
      "text/plain": [
       "array([0, 2, 1, 3])"
      ]
     },
     "execution_count": 37,
     "metadata": {},
     "output_type": "execute_result"
    }
   ],
   "source": [
    "data['category'].unique()"
   ]
  },
  {
   "cell_type": "code",
   "execution_count": 28,
   "metadata": {},
   "outputs": [],
   "source": [
    "data.to_json(\"data_encoder.json\")"
   ]
  },
  {
   "cell_type": "code",
   "execution_count": 29,
   "metadata": {},
   "outputs": [],
   "source": [
    "# New data for testing\n",
    "new_data = pd.DataFrame({\n",
    "    'category': ['Landmark'],\n",
    "    'budget': [424523]\n",
    "})\n",
    "new_data['budget'] = new_data['budget'] / 100000\n",
    "\n",
    "# Perform label encoding for the new data\n",
    "new_data['category'] = label_encoder.transform(new_data['category'])\n",
    "\n",
    "# Predict the cluster label for the new data\n",
    "new_data['cluster'] = kmeans.predict(new_data[['budget', 'category']])\n",
    "# Retrieve the cluster label for the new data\n",
    "new_data_cluster = new_data['cluster'].iloc[0]"
   ]
  },
  {
   "cell_type": "code",
   "execution_count": 30,
   "metadata": {},
   "outputs": [
    {
     "data": {
      "text/html": [
       "<div>\n",
       "<style scoped>\n",
       "    .dataframe tbody tr th:only-of-type {\n",
       "        vertical-align: middle;\n",
       "    }\n",
       "\n",
       "    .dataframe tbody tr th {\n",
       "        vertical-align: top;\n",
       "    }\n",
       "\n",
       "    .dataframe thead th {\n",
       "        text-align: right;\n",
       "    }\n",
       "</style>\n",
       "<table border=\"1\" class=\"dataframe\">\n",
       "  <thead>\n",
       "    <tr style=\"text-align: right;\">\n",
       "      <th></th>\n",
       "      <th>trip_id</th>\n",
       "      <th>trip_name</th>\n",
       "      <th>category</th>\n",
       "      <th>budget</th>\n",
       "      <th>rating</th>\n",
       "      <th>location</th>\n",
       "      <th>cluster</th>\n",
       "      <th>distance</th>\n",
       "    </tr>\n",
       "  </thead>\n",
       "  <tbody>\n",
       "    <tr>\n",
       "      <th>91</th>\n",
       "      <td>92</td>\n",
       "      <td>Archaeological Sites</td>\n",
       "      <td>3</td>\n",
       "      <td>4.62137</td>\n",
       "      <td>4.2</td>\n",
       "      <td>Bandung</td>\n",
       "      <td>0</td>\n",
       "      <td>0.37614</td>\n",
       "    </tr>\n",
       "    <tr>\n",
       "      <th>67</th>\n",
       "      <td>68</td>\n",
       "      <td>Architectural Marvels</td>\n",
       "      <td>3</td>\n",
       "      <td>4.69641</td>\n",
       "      <td>4.2</td>\n",
       "      <td>Surabaya</td>\n",
       "      <td>0</td>\n",
       "      <td>0.45118</td>\n",
       "    </tr>\n",
       "    <tr>\n",
       "      <th>99</th>\n",
       "      <td>100</td>\n",
       "      <td>Architectural Marvels</td>\n",
       "      <td>3</td>\n",
       "      <td>4.82361</td>\n",
       "      <td>4.2</td>\n",
       "      <td>Bandung</td>\n",
       "      <td>0</td>\n",
       "      <td>0.57838</td>\n",
       "    </tr>\n",
       "    <tr>\n",
       "      <th>51</th>\n",
       "      <td>52</td>\n",
       "      <td>Architectural Marvels</td>\n",
       "      <td>3</td>\n",
       "      <td>4.83982</td>\n",
       "      <td>4.2</td>\n",
       "      <td>Bandung</td>\n",
       "      <td>0</td>\n",
       "      <td>0.59459</td>\n",
       "    </tr>\n",
       "    <tr>\n",
       "      <th>83</th>\n",
       "      <td>84</td>\n",
       "      <td>Architectural Marvels</td>\n",
       "      <td>3</td>\n",
       "      <td>4.84216</td>\n",
       "      <td>4.2</td>\n",
       "      <td>Surabaya</td>\n",
       "      <td>0</td>\n",
       "      <td>0.59693</td>\n",
       "    </tr>\n",
       "  </tbody>\n",
       "</table>\n",
       "</div>"
      ],
      "text/plain": [
       "    trip_id              trip_name  category   budget  rating  location  \\\n",
       "91       92   Archaeological Sites         3  4.62137     4.2   Bandung   \n",
       "67       68  Architectural Marvels         3  4.69641     4.2  Surabaya   \n",
       "99      100  Architectural Marvels         3  4.82361     4.2   Bandung   \n",
       "51       52  Architectural Marvels         3  4.83982     4.2   Bandung   \n",
       "83       84  Architectural Marvels         3  4.84216     4.2  Surabaya   \n",
       "\n",
       "    cluster  distance  \n",
       "91        0   0.37614  \n",
       "67        0   0.45118  \n",
       "99        0   0.57838  \n",
       "51        0   0.59459  \n",
       "83        0   0.59693  "
      ]
     },
     "execution_count": 30,
     "metadata": {},
     "output_type": "execute_result"
    }
   ],
   "source": [
    "filtered_data.head()"
   ]
  },
  {
   "cell_type": "code",
   "execution_count": 36,
   "metadata": {},
   "outputs": [
    {
     "name": "stderr",
     "output_type": "stream",
     "text": [
      "C:\\Users\\L E N O V O\\AppData\\Local\\Temp\\ipykernel_15432\\3549027086.py:5: SettingWithCopyWarning: \n",
      "A value is trying to be set on a copy of a slice from a DataFrame.\n",
      "Try using .loc[row_indexer,col_indexer] = value instead\n",
      "\n",
      "See the caveats in the documentation: https://pandas.pydata.org/pandas-docs/stable/user_guide/indexing.html#returning-a-view-versus-a-copy\n",
      "  filtered_data['distance'] = ((filtered_data['budget'] - new_data['budget'].iloc[0])**2 +\n"
     ]
    },
    {
     "data": {
      "text/plain": [
       "Index(['trip_id', 'trip_name', 'category', 'budget', 'rating', 'location',\n",
       "       'cluster', 'distance'],\n",
       "      dtype='object')"
      ]
     },
     "execution_count": 36,
     "metadata": {},
     "output_type": "execute_result"
    }
   ],
   "source": [
    "# Filter the data based on the predicted cluster label\n",
    "filtered_data = data[data['cluster'] == new_data_cluster]\n",
    "\n",
    "# Sort the filtered data based on the Euclidean distance from the new data point\n",
    "filtered_data['distance'] = ((filtered_data['budget'] - new_data['budget'].iloc[0])**2 + \n",
    "                             (filtered_data['category'] - new_data['category'].iloc[0])**2)**0.5\n",
    "filtered_data = filtered_data.sort_values('distance')\n",
    "\n",
    "# Top K predictions based on the sorted distances\n",
    "K = 3\n",
    "top_K_points = filtered_data.head(K)\n",
    "\n",
    "# Print the top K closest points\n",
    "# print('\\nTop', K, 'Closest Points:')\n",
    "# print(top_K_points)\n",
    "\n",
    "top_K_points.columns"
   ]
  },
  {
   "cell_type": "code",
   "execution_count": 32,
   "metadata": {},
   "outputs": [
    {
     "name": "stdout",
     "output_type": "stream",
     "text": [
      "<class 'pandas.core.frame.DataFrame'>\n"
     ]
    }
   ],
   "source": [
    "print(type(top_K_points))"
   ]
  },
  {
   "cell_type": "code",
   "execution_count": 33,
   "metadata": {},
   "outputs": [],
   "source": [
    "import joblib"
   ]
  },
  {
   "cell_type": "code",
   "execution_count": 34,
   "metadata": {},
   "outputs": [],
   "source": [
    "# joblib.dump(label_encoder, \"label_encoder.h5\")"
   ]
  },
  {
   "cell_type": "code",
   "execution_count": 35,
   "metadata": {},
   "outputs": [],
   "source": [
    "# joblib.dump(kmeans, \"kmeans.h5\")"
   ]
  }
 ],
 "metadata": {
  "kernelspec": {
   "display_name": "Python 3",
   "language": "python",
   "name": "python3"
  },
  "language_info": {
   "codemirror_mode": {
    "name": "ipython",
    "version": 3
   },
   "file_extension": ".py",
   "mimetype": "text/x-python",
   "name": "python",
   "nbconvert_exporter": "python",
   "pygments_lexer": "ipython3",
   "version": "3.10.9"
  },
  "orig_nbformat": 4
 },
 "nbformat": 4,
 "nbformat_minor": 2
}
