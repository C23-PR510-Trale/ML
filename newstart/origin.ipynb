{
 "cells": [
  {
   "cell_type": "code",
   "execution_count": 10,
   "metadata": {},
   "outputs": [
    {
     "name": "stdout",
     "output_type": "stream",
     "text": [
      "Data exported to user.csv\n"
     ]
    }
   ],
   "source": [
    "import csv\n",
    "import random\n",
    "import re\n",
    "\n",
    "# List of categories and their corresponding subcategories\n",
    "categories1 = ['Culinary', 'Culture', 'History', 'Nature', 'Tourist Attraction']\n",
    "city = ['Jogja', 'Semarang']\n",
    "categories2 = ['Tasty Food', 'Great View', 'Kind Person', 'Cheap Price', 'Expensive', 'Bad Food', 'Boring', 'Fun', 'Isolated', 'Mindful', 'Beautiful', 'Kind', 'Noisy', 'Peaceful', 'Respectable', 'Recommended', 'Hated', 'Not Recommended']\n",
    "\n",
    "# Read names from a text file\n",
    "with open('first_names.all.txt', 'r', encoding='utf-8') as file:\n",
    "    names = [line.strip() for line in file if re.match(r'^[A-Za-z\\s]+$', line.strip())]\n",
    "\n",
    "# Randomize the names\n",
    "random.shuffle(names)\n",
    "\n",
    "# Limit the dataset to 20,000 names\n",
    "names = names[:10000]\n",
    "\n",
    "for i in range(10000):\n",
    "    id_user = i\n",
    "    user_id = f\"{id_user}\"\n",
    "\n",
    "\n",
    "# Generate random categories and corresponding subcategories\n",
    "categories1 = random.choices(categories1, k=10000)\n",
    "city = random.choices(city, k=10000)\n",
    "categories2 = random.choices(categories2, k=10000)\n",
    "\n",
    "# Prepare data for CSV export\n",
    "data = list(zip(user_id,names, categories1, categories2, city))\n",
    "\n",
    "# Define the CSV file path\n",
    "csv_file = 'user.csv'\n",
    "\n",
    "# Function to randomly pick places from the corresponding tourism file\n",
    "def get_random_place(tourism_file):\n",
    "    try:\n",
    "        with open(tourism_file, 'r', encoding='utf-8') as file:\n",
    "            reader = csv.reader(file)\n",
    "            places = [row[0] for row in reader if len(row) > 0 and row[0].strip()]  # Assuming place column is at index 0\n",
    "    except FileNotFoundError:\n",
    "        print(f\"Tourism file '{tourism_file}' not found.\")\n",
    "        return ''\n",
    "\n",
    "    return random.choice(places) if places else ''\n",
    "\n",
    "# Add places column based on city\n",
    "for i, row in enumerate(data):\n",
    "    city = row[4]\n",
    "    if city == 'Jogja':\n",
    "        place = get_random_place('Yogyakarta_Tourism.csv')\n",
    "    elif city == 'Semarang':\n",
    "        place = get_random_place('Semarang_Tourism.csv')\n",
    "    else:\n",
    "        place = ''\n",
    "    \n",
    "    data[i] = row[:4] + (place,) + row[4:]\n",
    "\n",
    "# Export data to CSV\n",
    "with open(csv_file, 'w', newline='') as file:\n",
    "    writer = csv.writer(file)\n",
    "    writer.writerow(['user_id','name', 'Category1', 'Category2', 'Place', 'City'])\n",
    "    writer.writerows(data)\n",
    "\n",
    "print('Data exported to', csv_file)\n"
   ]
  },
  {
   "cell_type": "code",
   "execution_count": null,
   "metadata": {},
   "outputs": [],
   "source": []
  }
 ],
 "metadata": {
  "kernelspec": {
   "display_name": "Python 3",
   "language": "python",
   "name": "python3"
  },
  "language_info": {
   "codemirror_mode": {
    "name": "ipython",
    "version": 3
   },
   "file_extension": ".py",
   "mimetype": "text/x-python",
   "name": "python",
   "nbconvert_exporter": "python",
   "pygments_lexer": "ipython3",
   "version": "3.10.9"
  },
  "orig_nbformat": 4
 },
 "nbformat": 4,
 "nbformat_minor": 2
}
