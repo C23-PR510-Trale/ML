{
 "cells": [
  {
   "cell_type": "code",
   "execution_count": 1,
   "metadata": {},
   "outputs": [],
   "source": [
    "import numpy as np\n",
    "import pandas as pd\n",
    "\n",
    "# Set the random seed for reproducibility\n",
    "np.random.seed(42)"
   ]
  },
  {
   "cell_type": "code",
   "execution_count": null,
   "metadata": {},
   "outputs": [],
   "source": [
    "# Define the composition of ratings\n",
    "ratings = np.concatenate([\n",
    "    np.full(int(0.2 * num_rows), 4),   # 4 with 20% composition\n",
    "    np.full(int(0.1 * num_rows), 3),   # 3 with 10% composition\n",
    "    np.full(int(0.6 * num_rows), 5),   # 5 with 60% composition\n",
    "    np.full(int(0.06 * num_rows), 2),  # 2 with 6% composition\n",
    "    np.full(int(0.04 * num_rows), 1)   # 1 with 4% composition\n",
    "])"
   ]
  },
  {
   "cell_type": "code",
   "execution_count": 5,
   "metadata": {},
   "outputs": [],
   "source": [
    "# Generate random data\n",
    "num_rows = 10000\n",
    "user_ids = np.random.randint(1, 1000, size=num_rows)\n",
    "plan_trip_ids = np.random.randint(1, 201, size=num_rows)\n",
    "\n"
   ]
  },
  {
   "cell_type": "code",
   "execution_count": 6,
   "metadata": {},
   "outputs": [],
   "source": [
    "# Create a DataFrame\n",
    "data = pd.DataFrame({\n",
    "    'user_id': user_ids,\n",
    "    'plan_trip_id': plan_trip_ids,\n",
    "    'rating': ratings\n",
    "})"
   ]
  },
  {
   "cell_type": "code",
   "execution_count": 7,
   "metadata": {},
   "outputs": [],
   "source": [
    "# Export the dataset to CSV\n",
    "data.to_csv('user_rating.csv', index=False)"
   ]
  },
  {
   "cell_type": "code",
   "execution_count": null,
   "metadata": {},
   "outputs": [],
   "source": []
  }
 ],
 "metadata": {
  "kernelspec": {
   "display_name": "Python 3",
   "language": "python",
   "name": "python3"
  },
  "language_info": {
   "codemirror_mode": {
    "name": "ipython",
    "version": 3
   },
   "file_extension": ".py",
   "mimetype": "text/x-python",
   "name": "python",
   "nbconvert_exporter": "python",
   "pygments_lexer": "ipython3",
   "version": "3.10.9"
  },
  "orig_nbformat": 4
 },
 "nbformat": 4,
 "nbformat_minor": 2
}
